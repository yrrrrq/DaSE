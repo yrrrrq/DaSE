{
 "cells": [
  {
   "cell_type": "code",
   "execution_count": 1,
   "id": "8d2f1db6-aa59-4d0a-a530-d3663f5da74f",
   "metadata": {},
   "outputs": [
    {
     "name": "stdout",
     "output_type": "stream",
     "text": [
      "5 6 2 7 4 1 0 8 \n"
     ]
    }
   ],
   "source": [
    "class BinaryTree:\n",
    "    def __init__(self,data=None,left=None,right=None): \n",
    "        self.data=data\n",
    "        self.left=left\n",
    "        self.right=right\n",
    "    def preorder(self): \n",
    "        print(self.data,end=' ')\n",
    "        if self.left != None:\n",
    "            self.left.preorder()\n",
    "        if self.right != None:\n",
    "            self.right.preorder()\n",
    "    def midorder(self): \n",
    "        if self.left != None:\n",
    "            self.left.midorder()\n",
    "        print(self.data,end=' ')\n",
    "        if self.right != None:\n",
    "            self.right.midorder()\n",
    "    def postorder(self):\n",
    "        if self.left != None:\n",
    "            self.left.preorder()\n",
    "        if self.right != None:\n",
    "            self.right.preorder()\n",
    "        print(self.data,end=' ')\n",
    "    def height(self):\n",
    "        if self.data is None: \n",
    "            return 0\n",
    "        elif self.left is None and self.right is None:\n",
    "            return 1\n",
    "        elif self.left is None and self.right is not None:\n",
    "            return 1 + self.right.height()\n",
    "        elif self.left is not None and self.right is None:\n",
    "            return 1 + self.left.height()\n",
    "        else:\n",
    "            return 1 + max(self.left.height(), self.right.height())\n",
    "    \n",
    "    def leaf(self):\n",
    "        if self==None:\n",
    "            return\n",
    "        else:\n",
    "            self.left.preorder()\n",
    "            self.right.preorder()\n",
    "\n",
    "layer3_2 = BinaryTree(2,BinaryTree(7),BinaryTree(4))\n",
    "layer2_5 = BinaryTree(5,BinaryTree(6),layer3_2)\n",
    "layer2_1 = BinaryTree(1,BinaryTree(0),BinaryTree(8))\n",
    "layer1_3 = BinaryTree(3,layer2_5,layer2_1)\n",
    "layer1_3.leaf()\n",
    "print()\n"
   ]
  },
  {
   "cell_type": "code",
   "execution_count": null,
   "id": "67086811-bb98-4843-b8ec-de57785a0585",
   "metadata": {},
   "outputs": [],
   "source": []
  }
 ],
 "metadata": {
  "kernelspec": {
   "display_name": "Python 3 (ipykernel)",
   "language": "python",
   "name": "python3"
  },
  "language_info": {
   "codemirror_mode": {
    "name": "ipython",
    "version": 3
   },
   "file_extension": ".py",
   "mimetype": "text/x-python",
   "name": "python",
   "nbconvert_exporter": "python",
   "pygments_lexer": "ipython3",
   "version": "3.9.12"
  }
 },
 "nbformat": 4,
 "nbformat_minor": 5
}
