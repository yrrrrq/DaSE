{
 "cells": [
  {
   "cell_type": "code",
   "execution_count": 6,
   "id": "f78efb77-f93e-4f12-9e12-dbc961f01c9b",
   "metadata": {},
   "outputs": [
    {
     "name": "stdout",
     "output_type": "stream",
     "text": [
      "1e-07\n"
     ]
    }
   ],
   "source": [
    "import random\n",
    "S = 1 * 1\n",
    "N = 10000000\n",
    "C = 0\n",
    "for i in range(N):\n",
    "    x = random.uniform(0.0,1.0)\n",
    "    y = random.uniform(0.0,1.0)\n",
    "if y <= x**3 + x**2:\n",
    "    C += 1\n",
    "I = C / N * S\n",
    "print(I)"
   ]
  }
 ],
 "metadata": {
  "kernelspec": {
   "display_name": "Python 3 (ipykernel)",
   "language": "python",
   "name": "python3"
  },
  "language_info": {
   "codemirror_mode": {
    "name": "ipython",
    "version": 3
   },
   "file_extension": ".py",
   "mimetype": "text/x-python",
   "name": "python",
   "nbconvert_exporter": "python",
   "pygments_lexer": "ipython3",
   "version": "3.9.12"
  }
 },
 "nbformat": 4,
 "nbformat_minor": 5
}
