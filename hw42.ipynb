{
 "cells": [
  {
   "cell_type": "code",
   "execution_count": 1,
   "id": "d25a96b2-4fa7-486c-9c29-12d1b5088281",
   "metadata": {},
   "outputs": [
    {
     "name": "stdout",
     "output_type": "stream",
     "text": [
      "1\n",
      "error\n",
      "None\n",
      "2\n",
      "3\n",
      "False\n"
     ]
    }
   ],
   "source": [
    "class function():\n",
    "    def __init__(self):\n",
    "        self.__items=[]\n",
    "    def size(self): \n",
    "        return len(self.__items)\n",
    "    def isempty(self): \n",
    "        if len(self.__items)==0:\n",
    "            return True\n",
    "        else:\n",
    "            return False\n",
    "    def push(self,element):\n",
    "        self.__items.append(element)\n",
    "    def pop(self):  \n",
    "        try:\n",
    "            return self.__items.pop(0)\n",
    "        except:\n",
    "            print('error')\n",
    "    def peek(self): \n",
    "        try:\n",
    "            return self.__items[0]\n",
    "        except:\n",
    "            print('error')\n",
    "    def tail(self):\n",
    "        try:\n",
    "            return self.__items[-1]\n",
    "        except:\n",
    "            print(\"error\")\n",
    "\n",
    "s = function()\n",
    "s.push(1)\n",
    "print(s.pop())\n",
    "print(s.pop())\n",
    "s.push(2)\n",
    "s.push(3)\n",
    "s.push(5)\n",
    "print(s.peek())\n",
    "print(s.size())\n",
    "print(s.isempty())"
   ]
  },
  {
   "cell_type": "code",
   "execution_count": null,
   "id": "8a5faf0e-913d-4fba-b73c-4f668042aede",
   "metadata": {},
   "outputs": [],
   "source": []
  }
 ],
 "metadata": {
  "kernelspec": {
   "display_name": "Python 3 (ipykernel)",
   "language": "python",
   "name": "python3"
  },
  "language_info": {
   "codemirror_mode": {
    "name": "ipython",
    "version": 3
   },
   "file_extension": ".py",
   "mimetype": "text/x-python",
   "name": "python",
   "nbconvert_exporter": "python",
   "pygments_lexer": "ipython3",
   "version": "3.9.12"
  }
 },
 "nbformat": 4,
 "nbformat_minor": 5
}
