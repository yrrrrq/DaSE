{
 "cells": [
  {
   "cell_type": "code",
   "execution_count": 10,
   "id": "04c178cd-7daa-4aea-9fe8-7e20a792fdf7",
   "metadata": {},
   "outputs": [
    {
     "name": "stdout",
     "output_type": "stream",
     "text": [
      "0.00017265137284994125\n",
      "3.870949149131775e-05\n"
     ]
    }
   ],
   "source": [
    "import math\n",
    "import time\n",
    "import random\n",
    "def LinearSearch(list, item):#线性查找\n",
    "    index = 0\n",
    "    found = False\n",
    " \n",
    "# Match the value with each data element       \n",
    "    while index < len(list) and found is False:\n",
    "        if list[index] == item:\n",
    "            found = True\n",
    "        else:\n",
    "            index = index + 1\n",
    "    return found\n",
    "\n",
    "def BinarySearch(list, item):#二分查找\n",
    "    first = 0\n",
    "    last = len(list)-1\n",
    "    found = False\n",
    " \n",
    "    while first<=last and not found:\n",
    "        midpoint = (first + last)//2\n",
    "        if list[midpoint] == item:\n",
    "            found = True\n",
    "        else:\n",
    "            if item < list[midpoint]:\n",
    "                last = midpoint-1\n",
    "            else:\n",
    "                first = midpoint+1\n",
    "    return found\n",
    "\n",
    "arr1 = []\n",
    "for i in range(1000):\n",
    "    arr1.append(random.random())\n",
    "arr2 = arr1.copy()\n",
    "\n",
    "t_a1 = time.perf_counter()\n",
    "LinearSearch(arr1, 87)\n",
    "t_b1 = time.perf_counter()\n",
    "t1 = t_b1 - t_a1\n",
    "\n",
    "t_a2 = time.perf_counter()\n",
    "BinarySearch(arr2, 87)\n",
    "t_b2 = time.perf_counter()\n",
    "t2 = t_b2 - t_a2\n",
    "\n",
    "print(t1)\n",
    "print(t2)"
   ]
  },
  {
   "cell_type": "code",
   "execution_count": null,
   "id": "e1843e86-f0e8-4dbc-8417-12d1f0260a70",
   "metadata": {},
   "outputs": [],
   "source": []
  }
 ],
 "metadata": {
  "kernelspec": {
   "display_name": "Python 3 (ipykernel)",
   "language": "python",
   "name": "python3"
  },
  "language_info": {
   "codemirror_mode": {
    "name": "ipython",
    "version": 3
   },
   "file_extension": ".py",
   "mimetype": "text/x-python",
   "name": "python",
   "nbconvert_exporter": "python",
   "pygments_lexer": "ipython3",
   "version": "3.9.12"
  }
 },
 "nbformat": 4,
 "nbformat_minor": 5
}
