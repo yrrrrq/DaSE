{
 "cells": [
  {
   "cell_type": "code",
   "execution_count": 4,
   "id": "ecf12a73-c2e8-4355-a108-58ddae425e60",
   "metadata": {},
   "outputs": [
    {
     "name": "stdout",
     "output_type": "stream",
     "text": [
      "3.14892\n"
     ]
    }
   ],
   "source": [
    "import math\n",
    "import random\n",
    "s = 100000\n",
    "hit = 0.0\n",
    "d = 0.0\n",
    "for i in range(1, s + 1):\n",
    "    x = random.uniform(0.0,1.0)\n",
    "    y = random.uniform(0.0,1.0)\n",
    "    d = math.sqrt(x ** 2 + y ** 2)\n",
    "    if d <= 1.0:\n",
    "        hit = hit + 1\n",
    "P = 4 * (hit / s)\n",
    "\n",
    "print(P)"
   ]
  },
  {
   "cell_type": "code",
   "execution_count": null,
   "id": "a9a8e0eb-8219-4442-aa8e-da077ef7cb98",
   "metadata": {},
   "outputs": [],
   "source": []
  }
 ],
 "metadata": {
  "kernelspec": {
   "display_name": "Python 3 (ipykernel)",
   "language": "python",
   "name": "python3"
  },
  "language_info": {
   "codemirror_mode": {
    "name": "ipython",
    "version": 3
   },
   "file_extension": ".py",
   "mimetype": "text/x-python",
   "name": "python",
   "nbconvert_exporter": "python",
   "pygments_lexer": "ipython3",
   "version": "3.9.12"
  }
 },
 "nbformat": 4,
 "nbformat_minor": 5
}
