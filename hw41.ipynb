{
 "cells": [
  {
   "cell_type": "code",
   "execution_count": 1,
   "id": "650db8f3-2895-4c68-94ec-f6e40e22112f",
   "metadata": {},
   "outputs": [
    {
     "name": "stdout",
     "output_type": "stream",
     "text": [
      "11001011101100110001100100100101\n",
      "\n"
     ]
    },
    {
     "data": {
      "text/plain": [
       "0"
      ]
     },
     "execution_count": 1,
     "metadata": {},
     "output_type": "execute_result"
    }
   ],
   "source": [
    "def function(a):\n",
    "    b = int(a);\n",
    "    res = []\n",
    "    while b > 0:\n",
    "        res.append(b%2)\n",
    "        b = b//2\n",
    "    while len(res) < 8:\n",
    "        res.append(0)\n",
    "    res.reverse()\n",
    "    return res\n",
    "\n",
    "def function_address(ip):\n",
    "    ip_list = ip.split(\".\")\n",
    "    sublist=[]\n",
    "    for i in range(4):\n",
    "        sublist.append(function(ip_list[i]))\n",
    "    for i in range(4):\n",
    "        for j in range(8):\n",
    "            print(sublist[i][j],end = \"\")\n",
    "    print(\"\\n\")\n",
    "    return 0\n",
    "\n",
    "function_address(\"203.179.25.37\")\n"
   ]
  },
  {
   "cell_type": "code",
   "execution_count": null,
   "id": "3272a714-892a-4253-aa41-10bc63cab7d7",
   "metadata": {},
   "outputs": [],
   "source": []
  }
 ],
 "metadata": {
  "kernelspec": {
   "display_name": "Python 3 (ipykernel)",
   "language": "python",
   "name": "python3"
  },
  "language_info": {
   "codemirror_mode": {
    "name": "ipython",
    "version": 3
   },
   "file_extension": ".py",
   "mimetype": "text/x-python",
   "name": "python",
   "nbconvert_exporter": "python",
   "pygments_lexer": "ipython3",
   "version": "3.9.12"
  }
 },
 "nbformat": 4,
 "nbformat_minor": 5
}
