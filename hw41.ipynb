{
 "cells": [
  {
   "cell_type": "code",
   "execution_count": null,
   "id": "699236e8-e51d-4046-a301-4677ceab1cc0",
   "metadata": {},
   "outputs": [],
   "source": [
    "a = 1;\n",
    "s = 1;\n",
    "while a <= 100:\n",
    "    if a % 2 == 1:\n",
    "        print(a)\n",
    "        if a <= 50:\n",
    "            s = s * a\n",
    "    a += 1\n"
   ]
  }
 ],
 "metadata": {
  "kernelspec": {
   "display_name": "Python 3 (ipykernel)",
   "language": "python",
   "name": "python3"
  },
  "language_info": {
   "codemirror_mode": {
    "name": "ipython",
    "version": 3
   },
   "file_extension": ".py",
   "mimetype": "text/x-python",
   "name": "python",
   "nbconvert_exporter": "python",
   "pygments_lexer": "ipython3",
   "version": "3.9.12"
  }
 },
 "nbformat": 4,
 "nbformat_minor": 5
}
