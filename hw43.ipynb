{
 "cells": [
  {
   "cell_type": "code",
   "execution_count": 18,
   "id": "09939067-bcc5-4194-b912-465e9db2f0c0",
   "metadata": {},
   "outputs": [
    {
     "name": "stdin",
     "output_type": "stream",
     "text": [
      "请输入： abccccd\n"
     ]
    },
    {
     "name": "stdout",
     "output_type": "stream",
     "text": [
      "ccccTrue\n"
     ]
    }
   ],
   "source": [
    "import math\n",
    "def common(l):\n",
    "    le = len(l)\n",
    "    i = 0\n",
    "    count = [1 for x in range(0,le)]\n",
    "    while i < le:\n",
    "        j = i + 1\n",
    "        while j < le:\n",
    "            if l[j] == l[i]:\n",
    "                count[i] += 1\n",
    "            j += 1\n",
    "        i += 1\n",
    "    max = 1\n",
    "    key = 0\n",
    "    n = 0\n",
    "    for k in range(0,le):\n",
    "        if count[k] > 1:\n",
    "            n = 1\n",
    "        if count[k] > max:\n",
    "            max = count[k]\n",
    "            key = k\n",
    "        k += 1\n",
    "    for m in range(key,key+count[key]):\n",
    "        print(l[m],end=\"\")\n",
    "    if n == 1:\n",
    "        return True\n",
    "    return False\n",
    "\n",
    "l = input(\"请输入：\")\n",
    "print(common(l))"
   ]
  },
  {
   "cell_type": "code",
   "execution_count": null,
   "id": "6a4112bd-3191-4695-84b0-1dbf03af64c6",
   "metadata": {},
   "outputs": [],
   "source": []
  }
 ],
 "metadata": {
  "kernelspec": {
   "display_name": "Python 3 (ipykernel)",
   "language": "python",
   "name": "python3"
  },
  "language_info": {
   "codemirror_mode": {
    "name": "ipython",
    "version": 3
   },
   "file_extension": ".py",
   "mimetype": "text/x-python",
   "name": "python",
   "nbconvert_exporter": "python",
   "pygments_lexer": "ipython3",
   "version": "3.9.12"
  }
 },
 "nbformat": 4,
 "nbformat_minor": 5
}
