{
 "cells": [
  {
   "cell_type": "code",
   "execution_count": 1,
   "id": "280e49a8-3380-4c94-8d9b-7714ee3d452a",
   "metadata": {},
   "outputs": [
    {
     "name": "stdout",
     "output_type": "stream",
     "text": [
      "1.41418\n"
     ]
    }
   ],
   "source": [
    "def sqrt1(c,epsilon):\n",
    "    g = 0\n",
    "    j = -1\n",
    "    for j in range(0, c + 1):\n",
    "        j = j + 1\n",
    "        if j * j > c and g == 0:\n",
    "            g = j - 1\n",
    "    while abs(g * g - c) > epsilon:\n",
    "        g = g + epsilon * 0.1\n",
    "    return g\n",
    "\n",
    "print(\"%.5f\" % sqrt1(2,0.0001))"
   ]
  },
  {
   "cell_type": "code",
   "execution_count": 2,
   "id": "879bed83-5656-45d3-b408-65b712dcfd5c",
   "metadata": {},
   "outputs": [
    {
     "name": "stdout",
     "output_type": "stream",
     "text": [
      "1.4142135623842478\n"
     ]
    }
   ],
   "source": [
    "def sqrt2(x, epsilon):\n",
    "    low = 0.0\n",
    "    high = max(1.0, x)\n",
    "    ans = (high + low) / 2.0\n",
    "    while abs(ans ** 2 - x) >= epsilon:\n",
    "        if ans ** 2 < x:\n",
    "            low = ans\n",
    "        else:\n",
    "            high = ans\n",
    "        ans = (high + low) / 2.0\n",
    "    return ans\n",
    "\n",
    "\n",
    "print(sqrt2(2, 0.000000001))"
   ]
  },
  {
   "cell_type": "code",
   "execution_count": 3,
   "id": "86466cb5-ab7a-4abb-8da5-8ec10034bae3",
   "metadata": {},
   "outputs": [
    {
     "name": "stdout",
     "output_type": "stream",
     "text": [
      "1.4142135623746899\n"
     ]
    }
   ],
   "source": [
    "def sqrt3(k, epsilon):\n",
    "    guess = k\n",
    "    while abs(guess * guess - k) >= epsilon:\n",
    "        guess = guess - (((guess * guess) - k) / (guess * 2))\n",
    "    return guess\n",
    "\n",
    "\n",
    "print(sqrt3(2, 0.000000001))"
   ]
  },
  {
   "cell_type": "code",
   "execution_count": null,
   "id": "247ea9ae-9f92-4f2f-bc94-c9de8601cf2e",
   "metadata": {},
   "outputs": [],
   "source": []
  }
 ],
 "metadata": {
  "kernelspec": {
   "display_name": "Python 3 (ipykernel)",
   "language": "python",
   "name": "python3"
  },
  "language_info": {
   "codemirror_mode": {
    "name": "ipython",
    "version": 3
   },
   "file_extension": ".py",
   "mimetype": "text/x-python",
   "name": "python",
   "nbconvert_exporter": "python",
   "pygments_lexer": "ipython3",
   "version": "3.9.12"
  }
 },
 "nbformat": 4,
 "nbformat_minor": 5
}
