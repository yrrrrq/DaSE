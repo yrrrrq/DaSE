{
 "cells": [
  {
   "cell_type": "code",
   "execution_count": 5,
   "id": "f4fc4f16-2af1-4dbb-b74c-63f431529efb",
   "metadata": {},
   "outputs": [
    {
     "name": "stdout",
     "output_type": "stream",
     "text": [
      "[4, 7, 21, 25, 36, 43, 98]\n"
     ]
    }
   ],
   "source": [
    "def bubble_sort(array):\n",
    "    for i in range(1, len(array)):\n",
    "        for j in range(0, len(array) - i):\n",
    "            if array[j] > array[j+1] :\n",
    "                array[j], array[j+1] = array[j+1], array[j]\n",
    "    return array\n",
    "\n",
    "array = [43, 36, 25, 4, 7, 98, 21]\n",
    "print(bubble_sort(array))"
   ]
  },
  {
   "cell_type": "code",
   "execution_count": null,
   "id": "84e5a92c-0156-4c25-8a0a-cbb0c6faaa63",
   "metadata": {},
   "outputs": [],
   "source": []
  }
 ],
 "metadata": {
  "kernelspec": {
   "display_name": "Python 3 (ipykernel)",
   "language": "python",
   "name": "python3"
  },
  "language_info": {
   "codemirror_mode": {
    "name": "ipython",
    "version": 3
   },
   "file_extension": ".py",
   "mimetype": "text/x-python",
   "name": "python",
   "nbconvert_exporter": "python",
   "pygments_lexer": "ipython3",
   "version": "3.9.12"
  }
 },
 "nbformat": 4,
 "nbformat_minor": 5
}
